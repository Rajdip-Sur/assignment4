{
  "nbformat": 4,
  "nbformat_minor": 0,
  "metadata": {
    "colab": {
      "name": "assignment 4 rajdip sur.ipynb",
      "provenance": [],
      "collapsed_sections": []
    },
    "kernelspec": {
      "name": "python3",
      "display_name": "Python 3"
    },
    "accelerator": "GPU"
  },
  "cells": [
    {
      "cell_type": "code",
      "metadata": {
        "id": "eKQtez6ysPJh",
        "colab_type": "code",
        "colab": {}
      },
      "source": [
        "# 1.1 \n",
        "\n",
        "class triangle:\n",
        "    def __init__(self,a,b,c):\n",
        "        self.a=a\n",
        "        self.b=b\n",
        "        self.c=c\n",
        "    def area(self):\n",
        "        s=(self.a+self.b+self.c)/2\n",
        "        return (s*(s-self.a)*(s-self.b)*(s-self.c))**0.5"
      ],
      "execution_count": null,
      "outputs": []
    },
    {
      "cell_type": "code",
      "metadata": {
        "id": "j7g-P3QkxxuP",
        "colab_type": "code",
        "colab": {
          "base_uri": "https://localhost:8080/",
          "height": 34
        },
        "outputId": "e17b3057-dbce-4a3f-e4a5-29de83f5748c"
      },
      "source": [
        "triangle(3,4,5).area()"
      ],
      "execution_count": null,
      "outputs": [
        {
          "output_type": "execute_result",
          "data": {
            "text/plain": [
              "6.0"
            ]
          },
          "metadata": {
            "tags": []
          },
          "execution_count": 4
        }
      ]
    },
    {
      "cell_type": "code",
      "metadata": {
        "id": "Lubi6gqJyVen",
        "colab_type": "code",
        "colab": {}
      },
      "source": [
        "# 1.2\n",
        "\n",
        "def filter_long_words(listt,number):\n",
        "    a=[]\n",
        "    for i in listt :\n",
        "        if len(i)>number:\n",
        "            a.append(i)\n",
        "    return a\n",
        "            "
      ],
      "execution_count": null,
      "outputs": []
    },
    {
      "cell_type": "code",
      "metadata": {
        "id": "_UUgAnJlzSOV",
        "colab_type": "code",
        "colab": {
          "base_uri": "https://localhost:8080/",
          "height": 34
        },
        "outputId": "2e671517-d9c0-4eba-bee6-d183a39773d4"
      },
      "source": [
        "filter_long_words(['sanu','amit','iyar','venugopaliyar','rajdip','koushik'],4)"
      ],
      "execution_count": null,
      "outputs": [
        {
          "output_type": "execute_result",
          "data": {
            "text/plain": [
              "['venugopaliyar', 'rajdip', 'koushik']"
            ]
          },
          "metadata": {
            "tags": []
          },
          "execution_count": 6
        }
      ]
    },
    {
      "cell_type": "code",
      "metadata": {
        "id": "5aUGPcNKz0YE",
        "colab_type": "code",
        "colab": {}
      },
      "source": [
        "# 2.1\n",
        "\n",
        "def list_len(listt):\n",
        "    m=[]\n",
        "    for i in listt:\n",
        "         m.append(len(i))\n",
        "    return m"
      ],
      "execution_count": null,
      "outputs": []
    },
    {
      "cell_type": "code",
      "metadata": {
        "id": "E2GKHYIN0Hh1",
        "colab_type": "code",
        "colab": {
          "base_uri": "https://localhost:8080/",
          "height": 34
        },
        "outputId": "ef21017b-bf56-4cbe-df87-1c65cbf380be"
      },
      "source": [
        "list_len(['sanu','amit','iyar','venugopaliyar','rajdip','koushik'])"
      ],
      "execution_count": null,
      "outputs": [
        {
          "output_type": "execute_result",
          "data": {
            "text/plain": [
              "[4, 4, 4, 13, 6, 7]"
            ]
          },
          "metadata": {
            "tags": []
          },
          "execution_count": 8
        }
      ]
    },
    {
      "cell_type": "code",
      "metadata": {
        "id": "yQ93Q8dG0PP9",
        "colab_type": "code",
        "colab": {}
      },
      "source": [
        "# 2.2\n",
        "\n",
        "def myis_vowel(l):\n",
        "    x=['a','e','i','o','u']\n",
        "    for j in x:\n",
        "        if l==j:\n",
        "            return True\n",
        "    else:\n",
        "        return False"
      ],
      "execution_count": null,
      "outputs": []
    },
    {
      "cell_type": "code",
      "metadata": {
        "id": "s7BGhZtH0jtM",
        "colab_type": "code",
        "colab": {
          "base_uri": "https://localhost:8080/",
          "height": 51
        },
        "outputId": "759bbaa6-f529-4dc2-e977-69315dd109dd"
      },
      "source": [
        "print(myis_vowel('i'))\n",
        "print(myis_vowel('r'))"
      ],
      "execution_count": null,
      "outputs": [
        {
          "output_type": "stream",
          "text": [
            "True\n",
            "False\n"
          ],
          "name": "stdout"
        }
      ]
    },
    {
      "cell_type": "code",
      "metadata": {
        "id": "xqJV7gJu0s-d",
        "colab_type": "code",
        "colab": {}
      },
      "source": [
        ""
      ],
      "execution_count": null,
      "outputs": []
    }
  ]
}